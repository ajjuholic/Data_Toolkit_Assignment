{
  "nbformat": 4,
  "nbformat_minor": 0,
  "metadata": {
    "colab": {
      "provenance": []
    },
    "kernelspec": {
      "name": "python3",
      "display_name": "Python 3"
    },
    "language_info": {
      "name": "python"
    }
  },
  "cells": [
    {
      "cell_type": "markdown",
      "source": [
        "Q. 1 What is NumPy, and why is it widely used in Python ?\n",
        "Ans >> Numpy is a fundamental library in python for numerical computing . It provides support for larg , multi-dimensional arrays and matrices , along with a collection of mathematical function to operate on these arrays efficiently.\n",
        "\n",
        "**Numpy is a widely use in python for several reasons :**\n",
        "\n",
        "1. **Efficiency:** NumPy operations are implemented in C, which makes them significantly faster than equivalent operations performed using standard Python list or loop , especially for larg datasets.\n",
        "\n",
        "2. **Array Object:** The core of NumPy is the `ndarray` object, which is a powerfull and efficient n-dimensional array. These arrays are optimized for numerical operations and provide a convenient way to store and manipulate numerical data.\n",
        "\n",
        "3. **Mathematical Functions:** NumPy provides a comprehensive set of mathematical functions that can be applied to entire arrays, eliminating the need for explicit looping. This includes functions for linear algebra, Fourier transform, random number generation, and more.\n",
        "\n",
        "4. **Interoperability:** NumPy arrays are the standard data structure for many other scientific computing libraries in Python, such as SciPy, pandas, and scikit-learn. This makes it easy to integrate NumPy into a larger data analysis or machine learning workflow.\n",
        "\n",
        "5. **Memory Efficiency:** NumPy arrays are more memory-efficient than Python lists, especially for large datasets, because they store elements of a single data type contiguously in memory."
      ],
      "metadata": {
        "id": "ivqpBo2mdQkd"
      }
    },
    {
      "cell_type": "markdown",
      "source": [
        "Q. 2  How does broadcasting work in NumPy ?\n",
        "Ans >> Broadcasting in NumPy is a mechanism that allows NumPy to perform operations on arrays of different shapes. Subject to certain constraints, the smaller array is \"broadcast\" across the larger array so that they have compatible shapes for the operation. This avoids the need for explicitly creating multiple copies of the smaller array to match the shape of the larger array, which would be less efficient in terms of memory and performance.\n",
        "\n",
        "\n",
        "**Here's how broadcasting generally works:**\n",
        "\n",
        "1. **Compatibility Check:** NumPy compares the shapes of the arrays involved in the operation element-wise, starting from the trailing dimensions. Two dimensions are compatible if:\n",
        "\n",
        "  * They are equal.\n",
        "  * One of them is 1.\n",
        "\n",
        "2. **Broadcasting:** If the shapes are compatible according to the rules above, the smaller array is effectively \"stretched\" or \"copied\" along the dimensions where its size is 1 or where the dimension is missing (implicitly 1) to match the corresponding dimension in the larger array.\n",
        "\n",
        "3. **Operation:** Once the arrays have compatible shapes after broadcasting, the operation is performed element-wise.\n",
        "\n",
        "\n",
        "\n"
      ],
      "metadata": {
        "id": "RAX4mhDlgIQW"
      }
    },
    {
      "cell_type": "markdown",
      "source": [
        "Q. 3 What is a Pandas DataFrame ?\n",
        "Ans >> A Pandas DataFrame is a two-dimensional, size-mutable, and potentially heterogeneous tabular data structure with labeled axes (rows and columns). It is one of the most widely used data structures in data science and analysis with Python.\n",
        "\n",
        "Key characteristics of a Pandas DataFrame:\n",
        "\n",
        "  * **Two-dimensional:** It has both rows and columns.\n",
        "  * Size-mutable: You can add or remove columns and rows.\n",
        "  * **Potentially heterogeneous:** Different columns can store data of different types (ex., integers, strings, floating-point numbers).\n",
        "  * **Labeled axes:** Both rows and columns have labels (or indices) that you can use to access and manipulate data.\n",
        "  \n",
        "Pandas DataFrames are built on top of NumPy arrays and provide a rich set of functions and methods for data manipulation, cleaning, analysis, and visualization.\n",
        "\n"
      ],
      "metadata": {
        "id": "jMYeIDivhAPy"
      }
    },
    {
      "cell_type": "markdown",
      "source": [
        "Q. 4 Explain the use of the groupby() method in Pandas  ?\n",
        "Ans >> The `groupby` method in Pandas is used to group rows of a DataFrame based on some criteria , and then apply a function to each group . This allows you to perform operations on subsets of your data.\n",
        "\n",
        "Here's breakdown of how it works:\n",
        "\n",
        "  1. **Splitting:** The data is split into groups based on the vslues in one or more columns.\n",
        "\n",
        "  2. **Applying**: A function is applied to each individual group . This function can be an aggregation (like sum , mean, count), a transformation (like scaling), or a filtering operation.\n",
        "\n",
        "  3. **Combining:**The result of applying the function to each group are combined into a single result.\n",
        "\n",
        "  You can use the `by` parameter to specify the column(s) you want to group by. This can be a single column name, a list of column names, a function to apply to the index, or a dictionary.\n",
        "\n",
        "  For example, you might use `groupby()` to:\n",
        "\n",
        "   * Calculate the average sales for each product category.\n",
        "   * Count the number of the costomer in each region.\n",
        "   *  Find the maximum temperature for eac day."
      ],
      "metadata": {
        "id": "5Wy7UqnZH_VW"
      }
    },
    {
      "cell_type": "markdown",
      "source": [
        "Q. 5 Why is Seaborn preferred for statistical visualizations ?\n",
        "Ans >> **Seaborn is often preferred for statistical visualizations for several key reasons:**\n",
        "\n",
        " 1. **Built on Matplotlib:** Seaborn is built on top of Matplotlib and provides a high-level interface for drawing attractive and informative statistical graphics. This means you can still use Matplotlib's customization options if needed, but Seaborn simplifies the process for many common statistical plot types.\n",
        "\n",
        " 2. **Aesthetics:** Seaborn provides beautiful default styles and color palettes, making your plots look visually appealing with minimal effort. This is particularly useful for creating presentations and reports.\n",
        "\n",
        " 3. **Statistical Functions:** Seaborn is specifically designed for statistical data visualization. It has built-in functions to automatically calculate and display statistical properties of your data, such as regressions, distributions, and relationships between variables.\n",
        "\n",
        " 4. **Handling DataFrames:** Seaborn works seamlessly with Pandas DataFrames, making it easy to plot data directly from your data analysis workflow. You can often create complex plots with just a few lines of code by simply specifying the DataFrame and the columns you want to plot.\n",
        "\n",
        " 5. **Variety of Plots:** Seaborn offers a wide range of specialized plots for statistical analysis, including:\n",
        "\n",
        "    * Distribution plots (histograms, kernel density estimates)\n",
        "    * Categorical plots (bar plots, box plots, violin plots)\n",
        "    * Relational plots (scatter plots, line plots)\n",
        "    * Regression plots\n",
        "    * Matrix plots (heatmaps, clustered heatmaps)\n",
        "\n",
        "    "
      ],
      "metadata": {
        "id": "GCJlhBq9LRvo"
      }
    },
    {
      "cell_type": "markdown",
      "source": [
        "Q.6 What are the differences between NumPy arrays and Python lists ?\n",
        "Ans>> **NumPy** arrays and **Python** lists are both used to store collections of data, but they have several key differences, especially in the context of numerical computing:\n",
        "\n",
        "1. **Data Type:**\n",
        "\n",
        "  * **NumPy Arrays:** Store elements of a single, homogeneous data type. This is crucial for performance and memory efficiency.\n",
        "  * **Python Lists:** Can store elements of different data types (heterogeneous).\n",
        "\n",
        "2. **Performance:**\n",
        "\n",
        "  * **NumPy Arrays:** Operations on NumPy arrays are implemented in C, making them significantly faster for numerical computations compared to operations on Python lists, especially for large datasets. This is due to vectorized operations and efficient memory usage.\n",
        "  * **Python Lists:** Operations on lists are generally slower for numerical tasks, as they are not optimized for mathematical computations.\n",
        "\n",
        "3. **Functionality:**\n",
        "\n",
        "  * **NumPy Arrays:** Offer a wide range of mathematical functions and operations that can be applied to entire arrays (vectorized operations). This includes functions for linear algebra, Fourier transforms, random number generation, and more.\n",
        "  * **Python Lists:** Have limited built-in functions for mathematical operations. You would typically need to use loops or list comprehensions to perform element-wise operations, which is less efficient.\n",
        "\n",
        "4. **Memory Usage:**\n",
        "\n",
        "  * **NumPy Arrays:** Are more memory-efficient than Python lists, especially for large datasets, because they store elements of a single data type contiguously in memory.\n",
        "  * **Python Lists:** Consume more memory because they store pointers to objects, which can be of different types.\n",
        "\n",
        "5. **Size Mutability:**\n",
        "\n",
        "  * **NumPy Arrays:** Are generally fixed in size once created. While you can reshape or resize arrays, these operations often create new arrays.\n",
        "  * **Python Lists:** Are dynamically sized and can be easily modified (add, remove, or change elements)."
      ],
      "metadata": {
        "id": "qmuMdLXaMJ-H"
      }
    },
    {
      "cell_type": "markdown",
      "source": [
        "Q.7 What is a heatmap, and when should it be used ?\n",
        "Ans >> A heatmap is a data visualization technique that represents the magnitude of values in a matrix as colors. It uses a color gradient to show the intensity of a phenomenon or the correlation between variables.\n",
        "\n",
        "Here's a breakdown:\n",
        "\n",
        "  1. **Visual Representation :**\n",
        "  2. **Matrix Data:**\n",
        "  3. **Color Gradient**\n",
        "\n",
        "**When to use a heatmap:**  \n",
        "\n",
        "Heatmaps are useful when you want to visualize patterns, trends, and relationships within a matrix of data. They are particularly effective for:\n",
        "    * **Corrwlation Analysis:**\n",
        "    * **Identifying Patterns:**\n",
        "    * **Comparing values:**\n",
        "    * **Exploratory Data**\n",
        "    "
      ],
      "metadata": {
        "id": "P0uZM7UFMQuX"
      }
    },
    {
      "cell_type": "markdown",
      "source": [
        "Q.8 What does the term “vectorized operation” mean in NumPy ?\n",
        "Ans >> In NumPy, a \"vectorized operation\" refers to performing mathematical operations on entire arrays at once, rather than on individual elements using explicit Python loops [1]. This approach is significantly more efficient and faster, especially for large datasets.\n",
        "\n",
        "Here's a breakdown of what it means:\n",
        "\n",
        "  1. **Element-wise Operations:**\n",
        "  2. **No Explicit Loops:**\n",
        "  3. **Efficiency**\n",
        "  4. **Readablility**\n",
        "\n",
        "Essentially, when you use NumPy functions or operators directly on NumPy arrays, you are often performing vectorized operations. This is a core concept in NumPy and a major reason for its widespread use in numerical computing.\n"
      ],
      "metadata": {
        "id": "ZwVyncI9MQq6"
      }
    },
    {
      "cell_type": "markdown",
      "source": [
        "Q.9  How does Matplotlib differ from Plotly ?\n",
        "Ans >> Matplotlib and Plotly are both powerful libraries for creating visualizations in Python, but they differ in their approach, interactivity, and typical use cases.\n",
        "\n",
        "Here's a breakdown of their key differences:\n",
        "\n",
        "1. **Approach and Level:**\n",
        "\n",
        "  * **Matplotlib:** Is a fundamental and comprehensive plotting library. It is often considered more \"low-level,\" giving you fine-grained control over almost every aspect of a plot. You build visualizations by adding elements step by step (e.g., creating an axis, adding a line, setting labels).\n",
        "\n",
        "  * **Plotly:** Is a higher-level library that provides a more declarative approach to creating interactive plots. You often specify the data and the type of plot you want, and Plotly handles the underlying details of rendering and interactivity.\n",
        "\n",
        "2. **Interactivity:**\n",
        "\n",
        "  * **Matplotlib:** By default, Matplotlib produces static plots. While it is possible to add interactivity, it often requires additional libraries or more complex coding.\n",
        "\n",
        "  * **Plotly:** Is designed for creating interactive plots out of the box. Plots generated with Plotly are typically interactive in web browsers or Jupyter notebooks, allowing users to zoom, pan, hover over data points to see details, and more.\n",
        "3. **Output Format:**\n",
        "\n",
        "  * **Matplotlib:** Primarily generates static images (PNG, JPEG, SVG, PDF) or displays plots directly in environments like Jupyter notebooks.\n",
        "\n",
        "  * **Plotly:** Generates interactive web-based visualizations using HTML and JavaScript. These plots can be embedded in web pages, dashboards, or shared as standalone HTML files.\n",
        "\n",
        "4. **Ease of Use (for certain tasks):**\n",
        "\n",
        "  * **Matplotlib:** While powerful, creating complex plots or adding advanced features can sometimes require more lines of code.\n",
        "  * **Plotly:** Often simplifies the process of creating common plot types and adding interactivity, especially for data exploration and web-based dashboards.\n",
        "\n",
        "5. **Community and Ecosystem:**\n",
        "\n",
        "  * **Matplotlib:** Has a larger and more mature community and a vast ecosystem of related libraries (like Seaborn, which is built on Matplotlib).\n",
        "  * **Plotly:** Has a growing community and is popular for its interactive capabilities and integration with web development frameworks."
      ],
      "metadata": {
        "id": "m8aYHeZpPMt-"
      }
    },
    {
      "cell_type": "markdown",
      "source": [
        "Q.10 What is the significance of hierarchical indexing in Pandas ?\n",
        "Ans >> Hierarchical indexing, also known as MultiIndex, in Pandas is a way to have multiple levels of indexes (row labels) and/or columns in a DataFrame or Series. This allows you to work with higher-dimensional data in a two-dimensional structure.\n",
        "\n",
        "The significance of hierarchical indexing lies in its ability to:\n",
        "\n",
        "1. **Represent and Manipulate Complex Data**\n",
        "2. ** Perform Operations at Diffrent Levels.**\n",
        "3. **Reshape Data.**\n",
        "4. **Improve Readability and Organization:**\n",
        "5. **Enable More Expressive.**\n",
        "\n",
        "\n",
        "Essentially, hierarchical indexing in Pandas allows you to handle more complex data structures within the familiar DataFrame or Series objects, providing powerful tools for data manipulation and analysis."
      ],
      "metadata": {
        "id": "at90mmHfQWZ4"
      }
    },
    {
      "cell_type": "markdown",
      "source": [
        "Q.11 What is the role of Seaborn’s pairplot() function ?\n",
        "Ans >> he `pairplot()` function in Seaborn is a powerful tool for visualizing pairwise relationships in a dataset. It creates a grid of plots where:\n",
        "\n",
        "  1. **Diagonal Plots:** The plots along the diagonal show the distribution of each variable. By default, it uses a histogram to show the distribution [1].\n",
        "  2. **Off-Diagonal Plots:** The plots in the off-diagonal cells show the scatterplot of each pair of variables. This helps to visualize the relationship between two different variables [1].\n",
        "\n",
        "The primary role of `pairplot()` is to provide a quick and comprehensive overview of the relationships between multiple variables in a dataset. It is particularly useful for:\n",
        "\n",
        "  * **Exploratory Data Anlysis:** t allows you to quickly explore the distributions of individual variables and the relationships between pairs of variables, helping to identify patterns, trends, and potential correlations.\n",
        "\n",
        "  * **Identifying Relationships:** The scatterplots reveal whether there are linear or non-linear relationships between variables, as well as any clusters or outliers.\n",
        "\n",
        "  * **Assessing Distributions:** The diagonal plots show the shape of the distribution for each variable, which can be helpful in understanding the data's characteristics.\n",
        "\n",
        "  * **Comparing Relationships Across Categories:** You can use the `hue` parameter to color the plots based on a categorical variable, allowing you to compare the relationships and distributions for different groups within your data.\n",
        "\n",
        "In essence, `pairplot() `automates the process of creating multiple individual plots (histograms and scatterplots) to visualize the relationships within a dataset, saving you the effort of creating each plot separately. It's a great starting point for understanding the structure and relationships within your data\n"
      ],
      "metadata": {
        "id": "mxU7JMdfRGom"
      }
    },
    {
      "cell_type": "markdown",
      "source": [
        "Q.12 What is the purpose of the describe() function in Pandas ?\n",
        "Ans >>\n",
        "The `describe()` function in Pandas is used to generate descriptive statistics of a DataFrame or Series. It provides a quick summary of the central tendency, dispersion, and shape of a dataset's distribution, excluding `NaN `values.\n",
        "\n",
        "Here's a breakdown of its purpose:\n",
        "\n",
        "  1. **Summarize Numerical Data:** For numerical columns, `describe()` calculates and displays statistics such as:\n",
        "\n",
        "    * `count:` The number of non-null values.\n",
        "    * `mean:` The average of the values.\n",
        "    * `std:` The standard deviation, a measure of the dispersion of the data.\n",
        "    * `min:` The minimum value.\n",
        "    * `25%, 50%, 75%:` The quartiles (25th, 50th - also the median, and 75th percentiles), which provide insights into the distribution's spread and center [1].\n",
        "    * `max:` The maximum value.\n",
        "\n",
        "  2. **Summarize Categorical Data:** For object (string) or categorical columns, `describe()` provides different statistics:\n",
        "\n",
        "    * `count:` The number of non-null values.\n",
        "    * `unique:` The number of unique values.\n",
        "    * `top:` The most frequent value.\n",
        "    * `freq:` The frequency of the top value.\n",
        "\n",
        "  3. **Provide a Quick Overview:** It serves as a valuable initial step in exploratory data analysis to get a sense of the data's characteristics, identify potential outliers, and understand the distribution of values in different columns.\n",
        "\n",
        "  4. **Handle Mixed Data Types:**` describe()` can analyze DataFrames with a mix of numerical and categorical columns, providing the appropriate statistics for each type [1].\n",
        "\n",
        "In essence, the `describe()` function provides a concise statistical summary of your data, allowing you to quickly understand key properties of your variables without having to calculate each statistic individually."
      ],
      "metadata": {
        "id": "EPy5wZ0pSMZu"
      }
    },
    {
      "cell_type": "markdown",
      "source": [
        "Q.13 Why is handling missing data important in Pandas ?\n",
        "Ans >> Handling missing data is crucial in Pandas for several key reasons:\n",
        "\n",
        " 1. **Impact on Analysis and Modeling:** Most statistical and machine learning algorithms are designed to work with complete datasets. Missing values can lead to errors, biased results, or even prevent models from running at all. For example, calculating the mean of a column with missing values might produce an incorrect result unless the missing values are handled appropriately.\n",
        "\n",
        " 2. **Data Integrity and Accuracy:** Missing data can indicate problems in data collection or processing. Addressing missing values helps maintain the integrity and accuracy of your dataset, ensuring that your analysis and conclusions are based on reliable information.\n",
        "\n",
        " 3. **Optimizing Resource Usage:** Some operations in Pandas and other libraries can be less efficient or even fail when dealing with missing data. Handling missing values can optimize the performance of your data processing pipeline.\n",
        "\n",
        " 4. **Optimizing Resource Usage:** Some operations in Pandas and other libraries can be less efficient or even fail when dealing with missing data. Handling missing values can optimize the performance of your data processing pipeline.\n",
        "\n",
        " 5.**Choosing Appropriate Methods**\n"
      ],
      "metadata": {
        "id": "bNmwuklyTVwQ"
      }
    },
    {
      "cell_type": "markdown",
      "source": [
        "Q.14 What are the benefits of using Plotly for data visualization ?\n",
        "Ans >> Using Plotly for data visualization offers several significant benefits, especially in the context of interactive and web-based visualizations:\n",
        "\n",
        "  1. **Interactivity**\n",
        "  2.**Web-Based Output**\n",
        "  3.**High-Level Interface**\n",
        "  4.**Variety of Plot Types**\n",
        "  5.**Integration with Dashboards**\n",
        "  6.**Multiple Language Support**\n",
        "  7.**Aesthetics**\n",
        "  8.**Sharing and Embedding**\n",
        "\n",
        "In summary, if your goal is to create interactive, web-based visualizations that are easy to share and integrate into applications or dashboards, Plotly is an excellent choice. Its focus on interactivity and web-based output distinguishes it from libraries that primarily generate static plots.  \n",
        "  "
      ],
      "metadata": {
        "id": "fl9d82VnUFtS"
      }
    },
    {
      "cell_type": "markdown",
      "source": [
        "Q.15  How does NumPy handle multidimensional arrays ?\n",
        "Ans >> NumPy handles multidimensional arrays through its core data structure, the `ndarray` (n-dimensional array) object [1]. This object is specifically designed to efficiently store and manipulate large, homogeneous multidimensional data.\n",
        "\n",
        "Here's how NumPy handles multidimensional arrays:\n",
        "\n",
        "    1. **The `ndarray` Object:** The `ndarray` is the fundamental building block for multidimensional arrays in NumPy. It is a contiguous block of memory that stores elements of the same data type.\n",
        "\n",
        "    2. **Shape:** Each `ndarray` has a `shape` attribute, which is a tuple that specifies the size of the array along each dimension. For example, a 2D array (a matrix) with 3 rows and 4 columns would have a shape of (`3, 4`).\n",
        "\n",
        "    3. **Dimensions (Axes):** The dimensions of a multidimensional array are referred to as axes in NumPy. For a 2D array, the first axis is the rows and the second axis is the columns. For a 3D array, there would be a third axis representing depth or layers.\n",
        "\n",
        "    etc."
      ],
      "metadata": {
        "id": "5XpBJsMqVRwo"
      }
    },
    {
      "cell_type": "markdown",
      "source": [
        "Q.16 What is the role of Bokeh in data visualization ?\n",
        "Ans >>Based on the search result, the role of Bokeh in data visualization is to:\n",
        "\n",
        "  * **Build powerful data applications:** Bokeh is a library that allows you to create interactive visualizations and data applications.\n",
        "\n",
        "  * **Connect rich, interactive visualizations in the browser:** It acts as a bridge between your Python code and interactive visualizations that can be viewed in a web browser.\n",
        "\n",
        "  * **Provide a wide array of widgets, plot tools, and UI events:** Bokeh offers tools like widgets and plot tools that can trigger actions in your Python code, allowing for dynamic and interactive experiences.\n",
        "\n",
        "In essence, Bokeh focuses on creating interactive, web-based visualizations and data applications using Python. It enables you to build dashboards and tools where users can interact with the plots and trigger Python callbacks."
      ],
      "metadata": {
        "id": "A8RDiOf8WpwQ"
      }
    },
    {
      "cell_type": "markdown",
      "source": [
        "Q.17 A Explain the difference between apply() and map() in Pandas ?\n",
        "Ans >> the difference between `apply()` and` map() `in Pandas. Both are used to apply a function to data, but they are typically used in different contexts and on different types of Pandas objects.\n",
        "\n",
        "**Here's a breakdown of their differences:**\n",
        "\n",
        "**`apply():`**\n",
        "  \n",
        "    * **Applicability:** Primarily used on DataFrames or Series.\n",
        "    * **Function Application:** Can apply a function along an axis of a DataFrame (either rows or columns) or to each element of a Series.\n",
        "    * Flexibility: More flexible than `map()`. The function passed to `apply()` can operate on an entire Series (a column or a row), or even on individual elements. When used on a DataFrame, it can return a Series or another DataFrame, depending on the function's output.\n",
        "    * Common Uses: Performing calculations that require operating on multiple values within a row or column (e.g., calculating the sum of values in each row, applying a custom function to transform a column based on its values).\n",
        "\n",
        "**`map():`**\n",
        "\n",
        "    * **Applicability:** Primarily used on a Series.\n",
        "    * **Function Application:** Applies a function to each individual element of a Series.\n",
        "    * **Transformation:** Primarily used for element-wise transformations, such as replacing values based on a mapping dictionary, or applying a function to change the data type or format of each element.\n",
        "    * **Return Value:** Returns a new Series with the transformed elements."
      ],
      "metadata": {
        "id": "G6YUcCp7XKUF"
      }
    },
    {
      "cell_type": "markdown",
      "source": [
        "Q.18 What are some advanced features of NumPy ?\n",
        "Ans >>** Some advanced features of NumPy include:**\n",
        "\n",
        "1. **Broadcasting:** A powerful mechanism that allows NumPy to perform operations on arrays of different shapes and sizes, as long as they are compatible. This avoids the need for explicit looping or replicating data, making operations more efficient.\n",
        "\n",
        "2. **UFuncs (Universal Functions):** These are functions that operate element-wise on arrays. NumPy provides a large collection of ufuncs, and you can also create your own. Ufuncs are optimized for speed and efficiency.\n",
        "\n",
        "3. **Linear Algebra:** NumPy has a dedicated submodule `(numpy.linalg`) for performing linear algebra operations, such as matrix multiplication, inversion, determinant calculation, eigenvalue decomposition, and solving linear systems.\n",
        "\n",
        "4. **Random Number Generation:** NumPy provides a comprehensive set of functions for generating random numbers from various distributions, which is essential for simulations, statistical modeling, and machine learning.\n",
        "\n",
        "5. **Fancy Indexing and Boolean Indexing:** These advanced indexing techniques allow you to select elements from an array based on arrays of indices or boolean arrays, providing powerful ways to filter and manipulate data.\n",
        "\n",
        "Structured Arrays: These allow you to create arrays where each element is a structure or record containing fields of different data types. This is useful for representing tabular data.\n",
        "\n",
        "6. **Memory Mapping:** NumPy allows you to memory-map arrays from disk, which enables you to work with arrays larger than your available memory without loading the entire array into RAM.\n",
        "\n",
        "7. **Interoperability:** NumPy arrays are the standard data structure for many other scientific computing libraries in Python, such as SciPy, pandas, and scikit-learn. This seamless integration allows you to easily use NumPy arrays in a wider data analysis and machine learning workflow.\n",
        "\n",
        "8. **Optimization and Performance:** NumPy is designed for performance and efficiency. Its core is implemented in C, and it leverages techniques like vectorized operations and contiguous memory storage to achieve high performance for numerical computations.\n",
        "\n",
        "These advanced features, along with NumPy's core functionality, make it an indispensable tool for numerical computing, scientific research, and data analysis in Python."
      ],
      "metadata": {
        "id": "9Morb5r_YSI1"
      }
    },
    {
      "cell_type": "markdown",
      "source": [
        "Q.19 How does Pandas simplify time series analysis ?\n",
        "Ans >> Pandas significantly simplifies time series analysis by providing specialized data structures and functions designed to handle time-indexed data efficiently and intuitively. Here's how it does this:\n",
        "\n",
        "1. **DatetimeIndex:** Pandas introduces the `DatetimeIndex,` a specialized index for Series and DataFrames that stores datetime objects. This is the foundation for working with time series data in Pandas and allows for powerful time-based indexing and selection.\n",
        "\n",
        "2. **Data Alignment:** When performing operations on Series or DataFrames with a `DatetimeIndex,` Pandas automatically aligns the data based on the timestamps. This makes working with time series data from different sources or with irregular frequencies much easier.\n",
        "\n",
        "3. **Time-Based Indexing and Selection:** With a `DatetimeIndex`, you can easily select data using dates and time ranges. You can slice by year, month, day, or even specific time intervals. This is much more convenient than working with standard numerical indices [1].\n",
        "\n",
        "4. **Resampling:** Pandas provides powerful resampling capabilities that allow you to change the frequency of your time series data. You can downsample (e.g., aggregate daily data to monthly data) or upsample (e.g., interpolate hourly data from daily data).\n",
        "\n",
        "5. Frequency Conversion: You can easily convert a time series from one frequency to another using methods like `asfreq()`.\n",
        "\n",
        "6. **Time Zone Handling:** Pandas has robust support for handling time zones, allowing you to localize and convert time series data to different time zones.\n",
        "\n",
        "7. **Date and Time Components:** You can easily access various components of the datetime index, such as year, month, day, hour, minute, and second, which is useful for feature engineering or grouping data.\n",
        "\n",
        "8. **Rolling and Expanding Windows:** Pandas provides functions for calculating rolling and expanding statistics (e.g., rolling mean, expanding sum). These are essential for analyzing trends, seasonality, and other temporal patterns in time series data.\n",
        "\n",
        "9. **Handling Missing Data:** Pandas' capabilities for handling missing data are particularly important for time series, as missing data is common in time-stamped observations. You can use methods like `fillna()` or `interpolate()` to deal with gaps in your time series.\n",
        "\n",
        "10. **Integration with Visualization Libraries:** Pandas DataFrames with a DatetimeIndex work well with visualization libraries like Matplotlib and Seaborn, making it easy to plot time series data."
      ],
      "metadata": {
        "id": "sQcGfmoSZCSN"
      }
    },
    {
      "cell_type": "markdown",
      "source": [
        "Q.20 What is the role of a pivot table in Pandas ?\n",
        "Ans >>A pivot table in Pandas is a powerful tool for summarizing and rearranging data in a DataFrame . It's analogous to pivot tables in spreadsheet software like Excel. Its primary role is to:\n",
        "\n",
        "1. **Aggregate data:** Pivot tables allow you to group data by one or more key columns and then apply an aggregation function (like sum, mean, count, etc.) to another set of columns. This helps in summarizing large datasets and understanding patterns or trends within different categories.\n",
        "\n",
        "2. **Reshape data:** They reshape your DataFrame by moving unique values from specific columns to the index and columns of the output table. This makes it easier to analyze and visualize the data in a different perspective.\n",
        "\n",
        "3. **Create spreadsheet-style summaries:** As the search results mention, `pivot_table()` can create \"spreadsheet-style pivot tables\" [1]. This means you can generate tables that look similar to those you would create in a spreadsheet program, with rows and columns representing different categories and the values representing the aggregated data.\n",
        "\n",
        "Essentially, pivot tables in Pandas are used to:\n",
        "\n",
        "    * **Summarize data** by applying aggregation functions.\n",
        "    * **Reshape dat**a to gain different perspectives.\n",
        "    * **Create hierarchical indexes** on the rows and columns[2].\n",
        "\n",
        "The `pivot_table()` function in Pandas is used to achieve this [1, 2]. You specify the data, the columns to use for the index and columns of the pivot table, and the columns to aggregate [2]."
      ],
      "metadata": {
        "id": "OnXSnhHToSs-"
      }
    },
    {
      "cell_type": "markdown",
      "source": [
        "Q.21  Why is NumPy’s array slicing faster than Python’s list slicing ?\n",
        "Ans >> NumPy array slicing is faster than Python list slicing for several key reasons, primarily related to how NumPy arrays are designed and implemented compared to Python lists.\n",
        "\n",
        "1. **Contiguous Memory Allocation:** NumPy arrays store elements of a single, homogeneous data type contiguously in memory. This allows for very efficient access to elements. When you slice a NumPy array, you are essentially getting a \"view\" into this contiguous memory block, often without creating a new copy of the data. List slicing, on the other hand, typically creates a new list object and copies the elements into it.\n",
        "\n",
        "2. **Homogeneous Data Type:** NumPy arrays are restricted to holding elements of a single data type. This allows NumPy to optimize operations and memory layout knowing that all elements are the same size and structure. Python lists can hold elements of different data types, requiring more overhead to manage each element.\n",
        "\n",
        "3. **Underlying C Implementation:** NumPy operations, including slicing, are implemented in C. This means they execute much closer to the hardware and avoid the overhead of Python's interpreter for each element access or operation. Python list operations are generally performed at the Python level, which is slower.\n",
        "\n",
        "4. **Optimized Indexing and Access:** Due to the contiguous memory layout and homogeneous data type, NumPy can calculate the memory address of any element directly using its index. This direct memory access is much faster than the way Python lists store pointers to individual objects, which requires more indirection to access elements.\n",
        "\n",
        "In essence, NumPy's design prioritizes performance for numerical operations and data handling, especially for large datasets. The contiguous memory, homogeneous data type, and C-based implementation allow for highly optimized slicing and other array operations that are significantly faster than their Python list counterparts."
      ],
      "metadata": {
        "id": "Edm4imalpSkJ"
      }
    },
    {
      "cell_type": "markdown",
      "source": [
        "Q.22 What are some common use cases for Seaborn ?\n",
        "Ans >> here are some common use cases for Seaborn:\n",
        "\n",
        "    1. **Exploratory Data Analysis (EDA):** Seaborn is excellent for getting a quick understanding of your data. You can use functions like `pairplot()` to visualize the relationships between multiple variables and the distributions of individual variables [1]. This helps in identifying patterns, trends, and potential correlations early in your analysis.\n",
        "\n",
        "    2. **Statistical Data Visualization**: Seaborn is specifically designed for statistical data visualization. It has built-in functions to automatically calculate and display statistical properties of your data [1]. This makes it easy to visualize things like regressions, distributions, and relationships between variables without needing to perform complex calculations manually.\n",
        "\n",
        "    3. **Visualizing Distributions:** Seaborn offers various distribution plots like histograms and kernel density estimates, allowing you to visualize how your data is distributed for single variables [1].\n",
        "\n",
        "    4. Visualizing Categorical Data: Seaborn provides specialized plots for categorical data, such as bar plots, box plots, and violin plots. These are useful for comparing distributions or values across different categories [1].\n",
        "\n",
        "    5. ** Visualizing Relationships Between Variables:** Seaborn's relational plots, like scatter plots and line plots, help in visualizing the relationships between two or more variables. You can easily see how one variable changes as another one does [1].\n",
        "\n",
        "    6. **Creating Visually Appealing Plots:** Seaborn provides beautiful default styles and color palettes, making your plots look aesthetically pleasing with minimal effort. This is particularly useful for creating presentations and reports [1]."
      ],
      "metadata": {
        "id": "WgTPcTSfp7wf"
      }
    },
    {
      "cell_type": "markdown",
      "source": [
        "# ***PRACTICAL QUESTIONS ***"
      ],
      "metadata": {
        "id": "t0yWQyTystP1"
      }
    },
    {
      "cell_type": "code",
      "source": [
        "# Q.1 How do you create a 2D NumPy array and calculate the sum of each row ?\n",
        "\n",
        "import numpy as np\n",
        "\n",
        "# Create a 2D NumPy array\n",
        "my_array = np.array([[1, 2, 3],\n",
        "                     [4, 5, 6],\n",
        "                     [7, 8, 9]])\n",
        "\n",
        "row_sums = my_array.sum(axis=1)\n",
        "\n",
        "print(\"2D NumPy Array:\")\n",
        "print(my_array)\n",
        "print(\"\\nSum of each row:\")\n",
        "print(row_sums)"
      ],
      "metadata": {
        "colab": {
          "base_uri": "https://localhost:8080/"
        },
        "id": "VW2A6ZLts17F",
        "outputId": "9b186ee3-69fd-4d29-e297-35abaa0c5a8e"
      },
      "execution_count": 1,
      "outputs": [
        {
          "output_type": "stream",
          "name": "stdout",
          "text": [
            "2D NumPy Array:\n",
            "[[1 2 3]\n",
            " [4 5 6]\n",
            " [7 8 9]]\n",
            "\n",
            "Sum of each row:\n",
            "[ 6 15 24]\n"
          ]
        }
      ]
    },
    {
      "cell_type": "code",
      "source": [
        "# Q.2 Write a Pandas script to find the mean of a specific column in a DataFrame ?\n",
        "\n",
        "import pandas as pd\n",
        "\n",
        "data = {'col1': [10, 20, 30, 40, 50],\n",
        "        'col2': [5, 15, 25, 35, 45]}\n",
        "df = pd.DataFrame(data)\n",
        "\n",
        "column_name = 'col1'\n",
        "\n",
        "# Select the specific column and calculate its mean\n",
        "mean_value = df[column_name].mean()\n",
        "\n",
        "# Print the DataFrame and the mean of the column\n",
        "print(\"DataFrame:\")\n",
        "print(df)\n",
        "print(f\"\\nMean of column '{column_name}':\")\n",
        "print(mean_value)"
      ],
      "metadata": {
        "colab": {
          "base_uri": "https://localhost:8080/"
        },
        "id": "5qS0kSYstNAG",
        "outputId": "66f71e5d-a68e-4f39-883a-f4dde7053146"
      },
      "execution_count": 2,
      "outputs": [
        {
          "output_type": "stream",
          "name": "stdout",
          "text": [
            "DataFrame:\n",
            "   col1  col2\n",
            "0    10     5\n",
            "1    20    15\n",
            "2    30    25\n",
            "3    40    35\n",
            "4    50    45\n",
            "\n",
            "Mean of column 'col1':\n",
            "30.0\n"
          ]
        }
      ]
    },
    {
      "cell_type": "code",
      "source": [
        "# Q.3 Create a scatter plot using Matplotlib.\n",
        "\n",
        "\n",
        "import matplotlib.pyplot as plt\n",
        "\n",
        "# Sample data\n",
        "x_data = [1, 2, 3, 4, 5]\n",
        "y_data = [2, 5, 3, 6, 4]\n",
        "\n",
        "# Create the scatter plot\n",
        "plt.scatter(x_data, y_data)\n",
        "\n",
        "# Add labels and a title\n",
        "plt.xlabel(\"X-axis Label\")\n",
        "plt.ylabel(\"Y-axis Label\")\n",
        "plt.title(\"Simple Scatter Plot\")\n",
        "\n",
        "# Display the plot\n",
        "plt.show()\n"
      ],
      "metadata": {
        "colab": {
          "base_uri": "https://localhost:8080/",
          "height": 472
        },
        "id": "TYiksE7sthlJ",
        "outputId": "2df2b37b-3da4-4751-ad1a-db082472c8cf"
      },
      "execution_count": 3,
      "outputs": [
        {
          "output_type": "display_data",
          "data": {
            "text/plain": [
              "<Figure size 640x480 with 1 Axes>"
            ],
            "image/png": "[encoded data removed]"
          },
          "metadata": {}
        }
      ]
    },
    {
      "cell_type": "code",
      "source": [
        "# Q.4  How do you calculate the correlation matrix using Seaborn and visualize it with a heatmap ?\n",
        "\n",
        "import pandas as pd\n",
        "import seaborn as sns\n",
        "import matplotlib.pyplot as plt\n",
        "\n",
        "# Create a sample DataFrame\n",
        "data = {'col1': [1, 2, 3, 4, 5],\n",
        "        'col2': [5, 4, 3, 2, 1],\n",
        "        'col3': [2, 3, 4, 5, 6],\n",
        "        'col4': [8, 6, 4, 2, 0]}\n",
        "df = pd.DataFrame(data)\n",
        "\n",
        "# Calculate the correlation matrix\n",
        "correlation_matrix = df.corr()\n",
        "\n",
        "# Create the heatmap\n",
        "plt.figure(figsize=(8, 6)) # Optional: Adjust the figure size\n",
        "sns.heatmap(correlation_matrix, annot=True, cmap='coolwarm', fmt=\".2f\") # annot=True shows values on heatmap\n",
        "plt.title('Correlation Matrix Heatmap')\n",
        "plt.show()"
      ],
      "metadata": {
        "colab": {
          "base_uri": "https://localhost:8080/",
          "height": 545
        },
        "id": "LKHgYoQ6tzV2",
        "outputId": "6285ea95-e022-4053-8fc2-e4ef94ec4cb4"
      },
      "execution_count": 4,
      "outputs": [
        {
          "output_type": "display_data",
          "data": {
            "text/plain": [
              "<Figure size 800x600 with 2 Axes>"
            ],
            "image/png": "[encoded data removed]"
          },
          "metadata": {}
        }
      ]
    },
    {
      "cell_type": "code",
      "source": [
        "# Q.5 Generate a bar plot using Plotly\n",
        "\n",
        "import plotly.express as px\n",
        "import pandas as pd\n",
        "\n",
        "# Create a sample DataFrame\n",
        "data = {'Category': ['A', 'B', 'C', 'D'],\n",
        "        'Values': [10, 15, 7, 12]}\n",
        "df = pd.DataFrame(data)\n",
        "\n",
        "# Generate the bar plot\n",
        "fig = px.bar(df, x='Category', y='Values', title='Simple Bar Plot')\n",
        "\n",
        "# Display the plot\n",
        "fig.show()"
      ],
      "metadata": {
        "colab": {
          "base_uri": "https://localhost:8080/",
          "height": 542
        },
        "id": "qbeScfJZuBi3",
        "outputId": "d146d795-0f8b-4ac6-9e3e-27f07d5572f5"
      },
      "execution_count": 5,
      "outputs": [
        {
          "output_type": "display_data",
          "data": {
            "text/html": [
              "<html>\n",
              "<head><meta charset=\"utf-8\" /></head>\n",
              "<body>\n",
              "    <div>            <script src=\"https://cdnjs.cloudflare.com/ajax/libs/mathjax/2.7.5/MathJax.js?config=TeX-AMS-MML_SVG\"></script><script type=\"text/javascript\">if (window.MathJax && window.MathJax.Hub && window.MathJax.Hub.Config) {window.MathJax.Hub.Config({SVG: {font: \"STIX-Web\"}});}</script>                <script type=\"text/javascript\">window.PlotlyConfig = {MathJaxConfig: 'local'};</script>\n",
              "        <script charset=\"utf-8\" src=\"https://cdn.plot.ly/plotly-2.35.2.min.js\"></script>                <div id=\"ae9c29e8-8e72-4f4c-a21c-93e533677b7d\" class=\"plotly-graph-div\" style=\"height:525px; width:100%;\"></div>            <script type=\"text/javascript\">                                    window.PLOTLYENV=window.PLOTLYENV || {};                                    if (document.getElementById(\"ae9c29e8-8e72-4f4c-a21c-93e533677b7d\")) {                    Plotly.newPlot(                        \"ae9c29e8-8e72-4f4c-a21c-93e533677b7d\",                        [{\"alignmentgroup\":\"True\",\"hovertemplate\":\"Category=%{x}\\u003cbr\\u003eValues=%{y}\\u003cextra\\u003e\\u003c\\u002fextra\\u003e\",\"legendgroup\":\"\",\"marker\":{\"color\":\"#636efa\",\"pattern\":{\"shape\":\"\"}},\"name\":\"\",\"offsetgroup\":\"\",\"orientation\":\"v\",\"showlegend\":false,\"textposition\":\"auto\",\"x\":[\"A\",\"B\",\"C\",\"D\"],\"xaxis\":\"x\",\"y\":[10,15,7,12],\"yaxis\":\"y\",\"type\":\"bar\"}],                        {\"template\":{\"data\":{\"histogram2dcontour\":[{\"type\":\"histogram2dcontour\",\"colorbar\":{\"outlinewidth\":0,\"ticks\":\"\"},\"colorscale\":[[0.0,\"#0d0887\"],[0.1111111111111111,\"#46039f\"],[0.2222222222222222,\"#7201a8\"],[0.3333333333333333,\"#9c179e\"],[0.4444444444444444,\"#bd3786\"],[0.5555555555555556,\"#d8576b\"],[0.6666666666666666,\"#ed7953\"],[0.7777777777777778,\"#fb9f3a\"],[0.8888888888888888,\"#fdca26\"],[1.0,\"#f0f921\"]]}],\"choropleth\":[{\"type\":\"choropleth\",\"colorbar\":{\"outlinewidth\":0,\"ticks\":\"\"}}],\"histogram2d\":[{\"type\":\"histogram2d\",\"colorbar\":{\"outlinewidth\":0,\"ticks\":\"\"},\"colorscale\":[[0.0,\"#0d0887\"],[0.1111111111111111,\"#46039f\"],[0.2222222222222222,\"#7201a8\"],[0.3333333333333333,\"#9c179e\"],[0.4444444444444444,\"#bd3786\"],[0.5555555555555556,\"#d8576b\"],[0.6666666666666666,\"#ed7953\"],[0.7777777777777778,\"#fb9f3a\"],[0.8888888888888888,\"#fdca26\"],[1.0,\"#f0f921\"]]}],\"heatmap\":[{\"type\":\"heatmap\",\"colorbar\":{\"outlinewidth\":0,\"ticks\":\"\"},\"colorscale\":[[0.0,\"#0d0887\"],[0.1111111111111111,\"#46039f\"],[0.2222222222222222,\"#7201a8\"],[0.3333333333333333,\"#9c179e\"],[0.4444444444444444,\"#bd3786\"],[0.5555555555555556,\"#d8576b\"],[0.6666666666666666,\"#ed7953\"],[0.7777777777777778,\"#fb9f3a\"],[0.8888888888888888,\"#fdca26\"],[1.0,\"#f0f921\"]]}],\"heatmapgl\":[{\"type\":\"heatmapgl\",\"colorbar\":{\"outlinewidth\":0,\"ticks\":\"\"},\"colorscale\":[[0.0,\"#0d0887\"],[0.1111111111111111,\"#46039f\"],[0.2222222222222222,\"#7201a8\"],[0.3333333333333333,\"#9c179e\"],[0.4444444444444444,\"#bd3786\"],[0.5555555555555556,\"#d8576b\"],[0.6666666666666666,\"#ed7953\"],[0.7777777777777778,\"#fb9f3a\"],[0.8888888888888888,\"#fdca26\"],[1.0,\"#f0f921\"]]}],\"contourcarpet\":[{\"type\":\"contourcarpet\",\"colorbar\":{\"outlinewidth\":0,\"ticks\":\"\"}}],\"contour\":[{\"type\":\"contour\",\"colorbar\":{\"outlinewidth\":0,\"ticks\":\"\"},\"colorscale\":[[0.0,\"#0d0887\"],[0.1111111111111111,\"#46039f\"],[0.2222222222222222,\"#7201a8\"],[0.3333333333333333,\"#9c179e\"],[0.4444444444444444,\"#bd3786\"],[0.5555555555555556,\"#d8576b\"],[0.6666666666666666,\"#ed7953\"],[0.7777777777777778,\"#fb9f3a\"],[0.8888888888888888,\"#fdca26\"],[1.0,\"#f0f921\"]]}],\"surface\":[{\"type\":\"surface\",\"colorbar\":{\"outlinewidth\":0,\"ticks\":\"\"},\"colorscale\":[[0.0,\"#0d0887\"],[0.1111111111111111,\"#46039f\"],[0.2222222222222222,\"#7201a8\"],[0.3333333333333333,\"#9c179e\"],[0.4444444444444444,\"#bd3786\"],[0.5555555555555556,\"#d8576b\"],[0.6666666666666666,\"#ed7953\"],[0.7777777777777778,\"#fb9f3a\"],[0.8888888888888888,\"#fdca26\"],[1.0,\"#f0f921\"]]}],\"mesh3d\":[{\"type\":\"mesh3d\",\"colorbar\":{\"outlinewidth\":0,\"ticks\":\"\"}}],\"scatter\":[{\"fillpattern\":{\"fillmode\":\"overlay\",\"size\":10,\"solidity\":0.2},\"type\":\"scatter\"}],\"parcoords\":[{\"type\":\"parcoords\",\"line\":{\"colorbar\":{\"outlinewidth\":0,\"ticks\":\"\"}}}],\"scatterpolargl\":[{\"type\":\"scatterpolargl\",\"marker\":{\"colorbar\":{\"outlinewidth\":0,\"ticks\":\"\"}}}],\"bar\":[{\"error_x\":{\"color\":\"#2a3f5f\"},\"error_y\":{\"color\":\"#2a3f5f\"},\"marker\":{\"line\":{\"color\":\"#E5ECF6\",\"width\":0.5},\"pattern\":{\"fillmode\":\"overlay\",\"size\":10,\"solidity\":0.2}},\"type\":\"bar\"}],\"scattergeo\":[{\"type\":\"scattergeo\",\"marker\":{\"colorbar\":{\"outlinewidth\":0,\"ticks\":\"\"}}}],\"scatterpolar\":[{\"type\":\"scatterpolar\",\"marker\":{\"colorbar\":{\"outlinewidth\":0,\"ticks\":\"\"}}}],\"histogram\":[{\"marker\":{\"pattern\":{\"fillmode\":\"overlay\",\"size\":10,\"solidity\":0.2}},\"type\":\"histogram\"}],\"scattergl\":[{\"type\":\"scattergl\",\"marker\":{\"colorbar\":{\"outlinewidth\":0,\"ticks\":\"\"}}}],\"scatter3d\":[{\"type\":\"scatter3d\",\"line\":{\"colorbar\":{\"outlinewidth\":0,\"ticks\":\"\"}},\"marker\":{\"colorbar\":{\"outlinewidth\":0,\"ticks\":\"\"}}}],\"scattermapbox\":[{\"type\":\"scattermapbox\",\"marker\":{\"colorbar\":{\"outlinewidth\":0,\"ticks\":\"\"}}}],\"scatterternary\":[{\"type\":\"scatterternary\",\"marker\":{\"colorbar\":{\"outlinewidth\":0,\"ticks\":\"\"}}}],\"scattercarpet\":[{\"type\":\"scattercarpet\",\"marker\":{\"colorbar\":{\"outlinewidth\":0,\"ticks\":\"\"}}}],\"carpet\":[{\"aaxis\":{\"endlinecolor\":\"#2a3f5f\",\"gridcolor\":\"white\",\"linecolor\":\"white\",\"minorgridcolor\":\"white\",\"startlinecolor\":\"#2a3f5f\"},\"baxis\":{\"endlinecolor\":\"#2a3f5f\",\"gridcolor\":\"white\",\"linecolor\":\"white\",\"minorgridcolor\":\"white\",\"startlinecolor\":\"#2a3f5f\"},\"type\":\"carpet\"}],\"table\":[{\"cells\":{\"fill\":{\"color\":\"#EBF0F8\"},\"line\":{\"color\":\"white\"}},\"header\":{\"fill\":{\"color\":\"#C8D4E3\"},\"line\":{\"color\":\"white\"}},\"type\":\"table\"}],\"barpolar\":[{\"marker\":{\"line\":{\"color\":\"#E5ECF6\",\"width\":0.5},\"pattern\":{\"fillmode\":\"overlay\",\"size\":10,\"solidity\":0.2}},\"type\":\"barpolar\"}],\"pie\":[{\"automargin\":true,\"type\":\"pie\"}]},\"layout\":{\"autotypenumbers\":\"strict\",\"colorway\":[\"#636efa\",\"#EF553B\",\"#00cc96\",\"#ab63fa\",\"#FFA15A\",\"#19d3f3\",\"#FF6692\",\"#B6E880\",\"#FF97FF\",\"#FECB52\"],\"font\":{\"color\":\"#2a3f5f\"},\"hovermode\":\"closest\",\"hoverlabel\":{\"align\":\"left\"},\"paper_bgcolor\":\"white\",\"plot_bgcolor\":\"#E5ECF6\",\"polar\":{\"bgcolor\":\"#E5ECF6\",\"angularaxis\":{\"gridcolor\":\"white\",\"linecolor\":\"white\",\"ticks\":\"\"},\"radialaxis\":{\"gridcolor\":\"white\",\"linecolor\":\"white\",\"ticks\":\"\"}},\"ternary\":{\"bgcolor\":\"#E5ECF6\",\"aaxis\":{\"gridcolor\":\"white\",\"linecolor\":\"white\",\"ticks\":\"\"},\"baxis\":{\"gridcolor\":\"white\",\"linecolor\":\"white\",\"ticks\":\"\"},\"caxis\":{\"gridcolor\":\"white\",\"linecolor\":\"white\",\"ticks\":\"\"}},\"coloraxis\":{\"colorbar\":{\"outlinewidth\":0,\"ticks\":\"\"}},\"colorscale\":{\"sequential\":[[0.0,\"#0d0887\"],[0.1111111111111111,\"#46039f\"],[0.2222222222222222,\"#7201a8\"],[0.3333333333333333,\"#9c179e\"],[0.4444444444444444,\"#bd3786\"],[0.5555555555555556,\"#d8576b\"],[0.6666666666666666,\"#ed7953\"],[0.7777777777777778,\"#fb9f3a\"],[0.8888888888888888,\"#fdca26\"],[1.0,\"#f0f921\"]],\"sequentialminus\":[[0.0,\"#0d0887\"],[0.1111111111111111,\"#46039f\"],[0.2222222222222222,\"#7201a8\"],[0.3333333333333333,\"#9c179e\"],[0.4444444444444444,\"#bd3786\"],[0.5555555555555556,\"#d8576b\"],[0.6666666666666666,\"#ed7953\"],[0.7777777777777778,\"#fb9f3a\"],[0.8888888888888888,\"#fdca26\"],[1.0,\"#f0f921\"]],\"diverging\":[[0,\"#8e0152\"],[0.1,\"#c51b7d\"],[0.2,\"#de77ae\"],[0.3,\"#f1b6da\"],[0.4,\"#fde0ef\"],[0.5,\"#f7f7f7\"],[0.6,\"#e6f5d0\"],[0.7,\"#b8e186\"],[0.8,\"#7fbc41\"],[0.9,\"#4d9221\"],[1,\"#276419\"]]},\"xaxis\":{\"gridcolor\":\"white\",\"linecolor\":\"white\",\"ticks\":\"\",\"title\":{\"standoff\":15},\"zerolinecolor\":\"white\",\"automargin\":true,\"zerolinewidth\":2},\"yaxis\":{\"gridcolor\":\"white\",\"linecolor\":\"white\",\"ticks\":\"\",\"title\":{\"standoff\":15},\"zerolinecolor\":\"white\",\"automargin\":true,\"zerolinewidth\":2},\"scene\":{\"xaxis\":{\"backgroundcolor\":\"#E5ECF6\",\"gridcolor\":\"white\",\"linecolor\":\"white\",\"showbackground\":true,\"ticks\":\"\",\"zerolinecolor\":\"white\",\"gridwidth\":2},\"yaxis\":{\"backgroundcolor\":\"#E5ECF6\",\"gridcolor\":\"white\",\"linecolor\":\"white\",\"showbackground\":true,\"ticks\":\"\",\"zerolinecolor\":\"white\",\"gridwidth\":2},\"zaxis\":{\"backgroundcolor\":\"#E5ECF6\",\"gridcolor\":\"white\",\"linecolor\":\"white\",\"showbackground\":true,\"ticks\":\"\",\"zerolinecolor\":\"white\",\"gridwidth\":2}},\"shapedefaults\":{\"line\":{\"color\":\"#2a3f5f\"}},\"annotationdefaults\":{\"arrowcolor\":\"#2a3f5f\",\"arrowhead\":0,\"arrowwidth\":1},\"geo\":{\"bgcolor\":\"white\",\"landcolor\":\"#E5ECF6\",\"subunitcolor\":\"white\",\"showland\":true,\"showlakes\":true,\"lakecolor\":\"white\"},\"title\":{\"x\":0.05},\"mapbox\":{\"style\":\"light\"}}},\"xaxis\":{\"anchor\":\"y\",\"domain\":[0.0,1.0],\"title\":{\"text\":\"Category\"}},\"yaxis\":{\"anchor\":\"x\",\"domain\":[0.0,1.0],\"title\":{\"text\":\"Values\"}},\"legend\":{\"tracegroupgap\":0},\"title\":{\"text\":\"Simple Bar Plot\"},\"barmode\":\"relative\"},                        {\"responsive\": true}                    ).then(function(){\n",
              "                            \n",
              "var gd = document.getElementById('ae9c29e8-8e72-4f4c-a21c-93e533677b7d');\n",
              "var x = new MutationObserver(function (mutations, observer) {{\n",
              "        var display = window.getComputedStyle(gd).display;\n",
              "        if (!display || display === 'none') {{\n",
              "            console.log([gd, 'removed!']);\n",
              "            Plotly.purge(gd);\n",
              "            observer.disconnect();\n",
              "        }}\n",
              "}});\n",
              "\n",
              "// Listen for the removal of the full notebook cells\n",
              "var notebookContainer = gd.closest('#notebook-container');\n",
              "if (notebookContainer) {{\n",
              "    x.observe(notebookContainer, {childList: true});\n",
              "}}\n",
              "\n",
              "// Listen for the clearing of the current output cell\n",
              "var outputEl = gd.closest('.output');\n",
              "if (outputEl) {{\n",
              "    x.observe(outputEl, {childList: true});\n",
              "}}\n",
              "\n",
              "                        })                };                            </script>        </div>\n",
              "</body>\n",
              "</html>"
            ]
          },
          "metadata": {}
        }
      ]
    },
    {
      "cell_type": "code",
      "source": [
        "# Q.6 Create a DataFrame and add a new column based on an existing column\n",
        "\n",
        "import pandas as pd\n",
        "\n",
        "# Create a sample DataFrame\n",
        "data = {'Existing_Column': [10, 20, 30, 40, 50]}\n",
        "df = pd.DataFrame(data)\n",
        "\n",
        "# Add a new column based on the existing column\n",
        "# For example, let's create a new column that is double the existing column\n",
        "df['New_Column'] = df['Existing_Column'] * 2\n",
        "\n",
        "# Print the DataFrame\n",
        "print(\"DataFrame with new column:\")\n",
        "print(df)"
      ],
      "metadata": {
        "colab": {
          "base_uri": "https://localhost:8080/"
        },
        "id": "npRa5cUSuMWp",
        "outputId": "490dfdf9-f535-4363-a7b3-8dad51e2b4a6"
      },
      "execution_count": 6,
      "outputs": [
        {
          "output_type": "stream",
          "name": "stdout",
          "text": [
            "DataFrame with new column:\n",
            "   Existing_Column  New_Column\n",
            "0               10          20\n",
            "1               20          40\n",
            "2               30          60\n",
            "3               40          80\n",
            "4               50         100\n"
          ]
        }
      ]
    },
    {
      "cell_type": "code",
      "source": [
        "# Q.7 Write a program to perform element-wise multiplication of two NumPy arrays.\n",
        "\n",
        "import numpy as np\n",
        "\n",
        "# Create two NumPy arrays\n",
        "array1 = np.array([1, 2, 3])\n",
        "array2 = np.array([4, 5, 6])\n",
        "\n",
        "# Perform element-wise multiplication\n",
        "result_array = array1 * array2\n",
        "\n",
        "# Print the original arrays and the result\n",
        "print(\"Array 1:\")\n",
        "print(array1)\n",
        "print(\"\\nArray 2:\")\n",
        "print(array2)\n",
        "print(\"\\nElement-wise multiplication result:\")\n",
        "print(result_array)"
      ],
      "metadata": {
        "colab": {
          "base_uri": "https://localhost:8080/"
        },
        "id": "mWqfaZxIuhZW",
        "outputId": "5027e87c-6923-4f35-dd2a-8e7c8886bb29"
      },
      "execution_count": 7,
      "outputs": [
        {
          "output_type": "stream",
          "name": "stdout",
          "text": [
            "Array 1:\n",
            "[1 2 3]\n",
            "\n",
            "Array 2:\n",
            "[4 5 6]\n",
            "\n",
            "Element-wise multiplication result:\n",
            "[ 4 10 18]\n"
          ]
        }
      ]
    },
    {
      "cell_type": "code",
      "source": [
        "# Q.8  Create a line plot with multiple lines using Matplotlib.\n",
        "\n",
        "import matplotlib.pyplot as plt\n",
        "\n",
        "# Sample data\n",
        "x_data = [1, 2, 3, 4, 5]\n",
        "y_data1 = [2, 4, 1, 5, 3]\n",
        "y_data2 = [1, 3, 5, 2, 4]\n",
        "y_data3 = [5, 1, 4, 3, 2]\n",
        "\n",
        "# Create the line plot with multiple lines\n",
        "plt.plot(x_data, y_data1, label='Line 1', marker='o') # Add marker for points\n",
        "plt.plot(x_data, y_data2, label='Line 2', linestyle='--') # Use dashed line\n",
        "plt.plot(x_data, y_data3, label='Line 3', color='green', linewidth=2) # Change color and line width\n",
        "\n",
        "# Add labels and a title\n",
        "plt.xlabel(\"X-axis Label\")\n",
        "plt.ylabel(\"Y-axis Label\")\n",
        "plt.title(\"Line Plot with Multiple Lines\")\n",
        "\n",
        "# Add a legend to identify the lines\n",
        "plt.legend()\n",
        "\n",
        "# Display the plot\n",
        "plt.show()"
      ],
      "metadata": {
        "colab": {
          "base_uri": "https://localhost:8080/",
          "height": 472
        },
        "id": "G_i2ggpZurwf",
        "outputId": "2d7ef340-59a9-4397-887e-1840125fb42c"
      },
      "execution_count": 8,
      "outputs": [
        {
          "output_type": "display_data",
          "data": {
            "text/plain": [
              "<Figure size 640x480 with 1 Axes>"
            ],
            "image/png": "[encoded data removed]"
          },
          "metadata": {}
        }
      ]
    },
    {
      "cell_type": "code",
      "source": [
        "# Q.9 A Generate a Pandas DataFrame and filter rows where a column value is greater than a threshold\n",
        "\n",
        "import pandas as pd\n",
        "\n",
        "# Create a sample DataFrame\n",
        "data = {'Column_A': [10, 25, 15, 40, 5],\n",
        "        'Column_B': ['X', 'Y', 'Z', 'X', 'Y']}\n",
        "df = pd.DataFrame(data)\n",
        "\n",
        "# Define the threshold\n",
        "threshold = 20\n",
        "\n",
        "# Filter the DataFrame\n",
        "# This creates a boolean Series where True indicates the row meets the condition\n",
        "filtered_df = df[df['Column_A'] > threshold]\n",
        "\n",
        "# Print the original and filtered DataFrames\n",
        "print(\"Original DataFrame:\")\n",
        "print(df)\n",
        "print(f\"\\nFiltered DataFrame (where Column_A > {threshold}):\")\n",
        "print(filtered_df)"
      ],
      "metadata": {
        "colab": {
          "base_uri": "https://localhost:8080/"
        },
        "id": "GffiVQD-u0hu",
        "outputId": "f9f7be9d-b127-43f6-f81c-55ea70901559"
      },
      "execution_count": 9,
      "outputs": [
        {
          "output_type": "stream",
          "name": "stdout",
          "text": [
            "Original DataFrame:\n",
            "   Column_A Column_B\n",
            "0        10        X\n",
            "1        25        Y\n",
            "2        15        Z\n",
            "3        40        X\n",
            "4         5        Y\n",
            "\n",
            "Filtered DataFrame (where Column_A > 20):\n",
            "   Column_A Column_B\n",
            "1        25        Y\n",
            "3        40        X\n"
          ]
        }
      ]
    },
    {
      "cell_type": "code",
      "source": [
        "# Q.10 Create a histogram using Seaborn to visualize a distribution.\n",
        "\n",
        "import seaborn as sns\n",
        "import matplotlib.pyplot as plt\n",
        "import pandas as pd\n",
        "\n",
        "# Create a sample Series (or use a column from a DataFrame)\n",
        "data = [10, 12, 15, 15, 18, 20, 22, 25, 25, 25, 28, 30, 32, 35, 38, 40]\n",
        "# If using a DataFrame:\n",
        "# df = pd.DataFrame({'values': data})\n",
        "# sns.histplot(data=df, x='values')\n",
        "\n",
        "# Create the histogram\n",
        "sns.histplot(x=data) # Or use y=data for a horizontal histogram\n",
        "\n",
        "# Add a title\n",
        "plt.title('Distribution of Sample Data')\n",
        "\n",
        "# Display the plot\n",
        "plt.show()"
      ],
      "metadata": {
        "colab": {
          "base_uri": "https://localhost:8080/",
          "height": 452
        },
        "id": "zxzJh4eFvAPi",
        "outputId": "0f6a5f3e-4d7e-48a2-d960-8985bf9325f9"
      },
      "execution_count": 10,
      "outputs": [
        {
          "output_type": "display_data",
          "data": {
            "text/plain": [
              "<Figure size 640x480 with 1 Axes>"
            ],
            "image/png": "[encoded data removed]"
          },
          "metadata": {}
        }
      ]
    },
    {
      "cell_type": "code",
      "source": [
        "# Q.11  Perform matrix multiplication using NumPy.\n",
        "\n",
        "import numpy as np\n",
        "\n",
        "# Create two NumPy matrices (2D arrays)\n",
        "matrix1 = np.array([[1, 2],\n",
        "                    [3, 4]])\n",
        "\n",
        "matrix2 = np.array([[5, 6],\n",
        "                    [7, 8]])\n",
        "\n",
        "# Perform matrix multiplication using the @ operator\n",
        "result_matrix = matrix1 @ matrix2\n",
        "\n",
        "# Print the matrices and the result\n",
        "print(\"Matrix 1:\")\n",
        "print(matrix1)\n",
        "print(\"\\nMatrix 2:\")\n",
        "print(matrix2)\n",
        "print(\"\\nMatrix multiplication result (using @):\")\n",
        "print(result_matrix)"
      ],
      "metadata": {
        "colab": {
          "base_uri": "https://localhost:8080/"
        },
        "id": "qkXsBAbyvLNf",
        "outputId": "355a7410-a733-456c-b068-488e8c020ba1"
      },
      "execution_count": 11,
      "outputs": [
        {
          "output_type": "stream",
          "name": "stdout",
          "text": [
            "Matrix 1:\n",
            "[[1 2]\n",
            " [3 4]]\n",
            "\n",
            "Matrix 2:\n",
            "[[5 6]\n",
            " [7 8]]\n",
            "\n",
            "Matrix multiplication result (using @):\n",
            "[[19 22]\n",
            " [43 50]]\n"
          ]
        }
      ]
    },
    {
      "cell_type": "code",
      "source": [
        "# Q.12  Use Pandas to load a CSV file and display its first 5 rows.\n",
        "\n",
        "import pandas as pd\n",
        "\n",
        "# Assume you have a CSV file named 'my_data.csv'\n",
        "# Replace 'my_data.csv' with the actual path to your file\n",
        "try:\n",
        "    # Load the CSV file into a DataFrame\n",
        "    df = pd.read_csv('my_data.csv')\n",
        "\n",
        "    # Display the first 5 rows of the DataFrame\n",
        "    print(\"First 5 rows of the DataFrame:\")\n",
        "    print(df.head())\n",
        "\n",
        "except FileNotFoundError:\n",
        "    print(\"Error: 'my_data.csv' not found. Please make sure the file is in the correct directory or provide the full path.\")"
      ],
      "metadata": {
        "colab": {
          "base_uri": "https://localhost:8080/"
        },
        "id": "60v109YovVTf",
        "outputId": "f8df61b6-934c-4868-91b9-e96dc69fc574"
      },
      "execution_count": 13,
      "outputs": [
        {
          "output_type": "stream",
          "name": "stdout",
          "text": [
            "Error: 'my_data.csv' not found. Please make sure the file is in the correct directory or provide the full path.\n"
          ]
        }
      ]
    },
    {
      "cell_type": "code",
      "source": [
        "# Q.13 Create a 3D scatter plot using Plotly.\n",
        "\n",
        "import plotly.express as px\n",
        "import pandas as pd\n",
        "\n",
        "# Create a sample DataFrame (replace with your actual data)\n",
        "# This example uses a simple dummy dataset\n",
        "data = {'x_data': [1, 2, 3, 4, 5, 6, 7, 8, 9, 10],\n",
        "        'y_data': [2, 3, 5, 4, 6, 7, 9, 8, 10, 11],\n",
        "        'z_data': [5, 4, 6, 5, 7, 6, 8, 7, 9, 8],\n",
        "        'color_data': [10, 20, 30, 40, 50, 60, 70, 80, 90, 100],\n",
        "        'size_data': [5, 8, 12, 10, 15, 18, 20, 16, 22, 25]}\n",
        "df = pd.DataFrame(data)\n",
        "\n",
        "# Create the 3D scatter plot\n",
        "fig = px.scatter_3d(df,\n",
        "                    x='x_data',\n",
        "                    y='y_data',\n",
        "                    z='z_data',\n",
        "                    color='color_data',  # Optional: Color points based on a column\n",
        "                    size='size_data',    # Optional: Size points based on a column\n",
        "                    title='Simple 3D Scatter Plot')\n",
        "\n",
        "# Display the plot\n",
        "fig.show()"
      ],
      "metadata": {
        "colab": {
          "base_uri": "https://localhost:8080/",
          "height": 542
        },
        "id": "O_F5ZF91vg3c",
        "outputId": "a8a8144b-ab93-49c1-aef0-9b009c817038"
      },
      "execution_count": 14,
      "outputs": [
        {
          "output_type": "display_data",
          "data": {
            "text/html": [
              "<html>\n",
              "<head><meta charset=\"utf-8\" /></head>\n",
              "<body>\n",
              "    <div>            <script src=\"https://cdnjs.cloudflare.com/ajax/libs/mathjax/2.7.5/MathJax.js?config=TeX-AMS-MML_SVG\"></script><script type=\"text/javascript\">if (window.MathJax && window.MathJax.Hub && window.MathJax.Hub.Config) {window.MathJax.Hub.Config({SVG: {font: \"STIX-Web\"}});}</script>                <script type=\"text/javascript\">window.PlotlyConfig = {MathJaxConfig: 'local'};</script>\n",
              "        <script charset=\"utf-8\" src=\"https://cdn.plot.ly/plotly-2.35.2.min.js\"></script>                <div id=\"b2b1418b-40e6-42ed-8a6a-c968bd05ccec\" class=\"plotly-graph-div\" style=\"height:525px; width:100%;\"></div>            <script type=\"text/javascript\">                                    window.PLOTLYENV=window.PLOTLYENV || {};                                    if (document.getElementById(\"b2b1418b-40e6-42ed-8a6a-c968bd05ccec\")) {                    Plotly.newPlot(                        \"b2b1418b-40e6-42ed-8a6a-c968bd05ccec\",                        [{\"hovertemplate\":\"x_data=%{x}\\u003cbr\\u003ey_data=%{y}\\u003cbr\\u003ez_data=%{z}\\u003cbr\\u003esize_data=%{marker.size}\\u003cbr\\u003ecolor_data=%{marker.color}\\u003cextra\\u003e\\u003c\\u002fextra\\u003e\",\"legendgroup\":\"\",\"marker\":{\"color\":[10,20,30,40,50,60,70,80,90,100],\"coloraxis\":\"coloraxis\",\"size\":[5,8,12,10,15,18,20,16,22,25],\"sizemode\":\"area\",\"sizeref\":0.0625,\"symbol\":\"circle\"},\"mode\":\"markers\",\"name\":\"\",\"scene\":\"scene\",\"showlegend\":false,\"x\":[1,2,3,4,5,6,7,8,9,10],\"y\":[2,3,5,4,6,7,9,8,10,11],\"z\":[5,4,6,5,7,6,8,7,9,8],\"type\":\"scatter3d\"}],                        {\"template\":{\"data\":{\"histogram2dcontour\":[{\"type\":\"histogram2dcontour\",\"colorbar\":{\"outlinewidth\":0,\"ticks\":\"\"},\"colorscale\":[[0.0,\"#0d0887\"],[0.1111111111111111,\"#46039f\"],[0.2222222222222222,\"#7201a8\"],[0.3333333333333333,\"#9c179e\"],[0.4444444444444444,\"#bd3786\"],[0.5555555555555556,\"#d8576b\"],[0.6666666666666666,\"#ed7953\"],[0.7777777777777778,\"#fb9f3a\"],[0.8888888888888888,\"#fdca26\"],[1.0,\"#f0f921\"]]}],\"choropleth\":[{\"type\":\"choropleth\",\"colorbar\":{\"outlinewidth\":0,\"ticks\":\"\"}}],\"histogram2d\":[{\"type\":\"histogram2d\",\"colorbar\":{\"outlinewidth\":0,\"ticks\":\"\"},\"colorscale\":[[0.0,\"#0d0887\"],[0.1111111111111111,\"#46039f\"],[0.2222222222222222,\"#7201a8\"],[0.3333333333333333,\"#9c179e\"],[0.4444444444444444,\"#bd3786\"],[0.5555555555555556,\"#d8576b\"],[0.6666666666666666,\"#ed7953\"],[0.7777777777777778,\"#fb9f3a\"],[0.8888888888888888,\"#fdca26\"],[1.0,\"#f0f921\"]]}],\"heatmap\":[{\"type\":\"heatmap\",\"colorbar\":{\"outlinewidth\":0,\"ticks\":\"\"},\"colorscale\":[[0.0,\"#0d0887\"],[0.1111111111111111,\"#46039f\"],[0.2222222222222222,\"#7201a8\"],[0.3333333333333333,\"#9c179e\"],[0.4444444444444444,\"#bd3786\"],[0.5555555555555556,\"#d8576b\"],[0.6666666666666666,\"#ed7953\"],[0.7777777777777778,\"#fb9f3a\"],[0.8888888888888888,\"#fdca26\"],[1.0,\"#f0f921\"]]}],\"heatmapgl\":[{\"type\":\"heatmapgl\",\"colorbar\":{\"outlinewidth\":0,\"ticks\":\"\"},\"colorscale\":[[0.0,\"#0d0887\"],[0.1111111111111111,\"#46039f\"],[0.2222222222222222,\"#7201a8\"],[0.3333333333333333,\"#9c179e\"],[0.4444444444444444,\"#bd3786\"],[0.5555555555555556,\"#d8576b\"],[0.6666666666666666,\"#ed7953\"],[0.7777777777777778,\"#fb9f3a\"],[0.8888888888888888,\"#fdca26\"],[1.0,\"#f0f921\"]]}],\"contourcarpet\":[{\"type\":\"contourcarpet\",\"colorbar\":{\"outlinewidth\":0,\"ticks\":\"\"}}],\"contour\":[{\"type\":\"contour\",\"colorbar\":{\"outlinewidth\":0,\"ticks\":\"\"},\"colorscale\":[[0.0,\"#0d0887\"],[0.1111111111111111,\"#46039f\"],[0.2222222222222222,\"#7201a8\"],[0.3333333333333333,\"#9c179e\"],[0.4444444444444444,\"#bd3786\"],[0.5555555555555556,\"#d8576b\"],[0.6666666666666666,\"#ed7953\"],[0.7777777777777778,\"#fb9f3a\"],[0.8888888888888888,\"#fdca26\"],[1.0,\"#f0f921\"]]}],\"surface\":[{\"type\":\"surface\",\"colorbar\":{\"outlinewidth\":0,\"ticks\":\"\"},\"colorscale\":[[0.0,\"#0d0887\"],[0.1111111111111111,\"#46039f\"],[0.2222222222222222,\"#7201a8\"],[0.3333333333333333,\"#9c179e\"],[0.4444444444444444,\"#bd3786\"],[0.5555555555555556,\"#d8576b\"],[0.6666666666666666,\"#ed7953\"],[0.7777777777777778,\"#fb9f3a\"],[0.8888888888888888,\"#fdca26\"],[1.0,\"#f0f921\"]]}],\"mesh3d\":[{\"type\":\"mesh3d\",\"colorbar\":{\"outlinewidth\":0,\"ticks\":\"\"}}],\"scatter\":[{\"fillpattern\":{\"fillmode\":\"overlay\",\"size\":10,\"solidity\":0.2},\"type\":\"scatter\"}],\"parcoords\":[{\"type\":\"parcoords\",\"line\":{\"colorbar\":{\"outlinewidth\":0,\"ticks\":\"\"}}}],\"scatterpolargl\":[{\"type\":\"scatterpolargl\",\"marker\":{\"colorbar\":{\"outlinewidth\":0,\"ticks\":\"\"}}}],\"bar\":[{\"error_x\":{\"color\":\"#2a3f5f\"},\"error_y\":{\"color\":\"#2a3f5f\"},\"marker\":{\"line\":{\"color\":\"#E5ECF6\",\"width\":0.5},\"pattern\":{\"fillmode\":\"overlay\",\"size\":10,\"solidity\":0.2}},\"type\":\"bar\"}],\"scattergeo\":[{\"type\":\"scattergeo\",\"marker\":{\"colorbar\":{\"outlinewidth\":0,\"ticks\":\"\"}}}],\"scatterpolar\":[{\"type\":\"scatterpolar\",\"marker\":{\"colorbar\":{\"outlinewidth\":0,\"ticks\":\"\"}}}],\"histogram\":[{\"marker\":{\"pattern\":{\"fillmode\":\"overlay\",\"size\":10,\"solidity\":0.2}},\"type\":\"histogram\"}],\"scattergl\":[{\"type\":\"scattergl\",\"marker\":{\"colorbar\":{\"outlinewidth\":0,\"ticks\":\"\"}}}],\"scatter3d\":[{\"type\":\"scatter3d\",\"line\":{\"colorbar\":{\"outlinewidth\":0,\"ticks\":\"\"}},\"marker\":{\"colorbar\":{\"outlinewidth\":0,\"ticks\":\"\"}}}],\"scattermapbox\":[{\"type\":\"scattermapbox\",\"marker\":{\"colorbar\":{\"outlinewidth\":0,\"ticks\":\"\"}}}],\"scatterternary\":[{\"type\":\"scatterternary\",\"marker\":{\"colorbar\":{\"outlinewidth\":0,\"ticks\":\"\"}}}],\"scattercarpet\":[{\"type\":\"scattercarpet\",\"marker\":{\"colorbar\":{\"outlinewidth\":0,\"ticks\":\"\"}}}],\"carpet\":[{\"aaxis\":{\"endlinecolor\":\"#2a3f5f\",\"gridcolor\":\"white\",\"linecolor\":\"white\",\"minorgridcolor\":\"white\",\"startlinecolor\":\"#2a3f5f\"},\"baxis\":{\"endlinecolor\":\"#2a3f5f\",\"gridcolor\":\"white\",\"linecolor\":\"white\",\"minorgridcolor\":\"white\",\"startlinecolor\":\"#2a3f5f\"},\"type\":\"carpet\"}],\"table\":[{\"cells\":{\"fill\":{\"color\":\"#EBF0F8\"},\"line\":{\"color\":\"white\"}},\"header\":{\"fill\":{\"color\":\"#C8D4E3\"},\"line\":{\"color\":\"white\"}},\"type\":\"table\"}],\"barpolar\":[{\"marker\":{\"line\":{\"color\":\"#E5ECF6\",\"width\":0.5},\"pattern\":{\"fillmode\":\"overlay\",\"size\":10,\"solidity\":0.2}},\"type\":\"barpolar\"}],\"pie\":[{\"automargin\":true,\"type\":\"pie\"}]},\"layout\":{\"autotypenumbers\":\"strict\",\"colorway\":[\"#636efa\",\"#EF553B\",\"#00cc96\",\"#ab63fa\",\"#FFA15A\",\"#19d3f3\",\"#FF6692\",\"#B6E880\",\"#FF97FF\",\"#FECB52\"],\"font\":{\"color\":\"#2a3f5f\"},\"hovermode\":\"closest\",\"hoverlabel\":{\"align\":\"left\"},\"paper_bgcolor\":\"white\",\"plot_bgcolor\":\"#E5ECF6\",\"polar\":{\"bgcolor\":\"#E5ECF6\",\"angularaxis\":{\"gridcolor\":\"white\",\"linecolor\":\"white\",\"ticks\":\"\"},\"radialaxis\":{\"gridcolor\":\"white\",\"linecolor\":\"white\",\"ticks\":\"\"}},\"ternary\":{\"bgcolor\":\"#E5ECF6\",\"aaxis\":{\"gridcolor\":\"white\",\"linecolor\":\"white\",\"ticks\":\"\"},\"baxis\":{\"gridcolor\":\"white\",\"linecolor\":\"white\",\"ticks\":\"\"},\"caxis\":{\"gridcolor\":\"white\",\"linecolor\":\"white\",\"ticks\":\"\"}},\"coloraxis\":{\"colorbar\":{\"outlinewidth\":0,\"ticks\":\"\"}},\"colorscale\":{\"sequential\":[[0.0,\"#0d0887\"],[0.1111111111111111,\"#46039f\"],[0.2222222222222222,\"#7201a8\"],[0.3333333333333333,\"#9c179e\"],[0.4444444444444444,\"#bd3786\"],[0.5555555555555556,\"#d8576b\"],[0.6666666666666666,\"#ed7953\"],[0.7777777777777778,\"#fb9f3a\"],[0.8888888888888888,\"#fdca26\"],[1.0,\"#f0f921\"]],\"sequentialminus\":[[0.0,\"#0d0887\"],[0.1111111111111111,\"#46039f\"],[0.2222222222222222,\"#7201a8\"],[0.3333333333333333,\"#9c179e\"],[0.4444444444444444,\"#bd3786\"],[0.5555555555555556,\"#d8576b\"],[0.6666666666666666,\"#ed7953\"],[0.7777777777777778,\"#fb9f3a\"],[0.8888888888888888,\"#fdca26\"],[1.0,\"#f0f921\"]],\"diverging\":[[0,\"#8e0152\"],[0.1,\"#c51b7d\"],[0.2,\"#de77ae\"],[0.3,\"#f1b6da\"],[0.4,\"#fde0ef\"],[0.5,\"#f7f7f7\"],[0.6,\"#e6f5d0\"],[0.7,\"#b8e186\"],[0.8,\"#7fbc41\"],[0.9,\"#4d9221\"],[1,\"#276419\"]]},\"xaxis\":{\"gridcolor\":\"white\",\"linecolor\":\"white\",\"ticks\":\"\",\"title\":{\"standoff\":15},\"zerolinecolor\":\"white\",\"automargin\":true,\"zerolinewidth\":2},\"yaxis\":{\"gridcolor\":\"white\",\"linecolor\":\"white\",\"ticks\":\"\",\"title\":{\"standoff\":15},\"zerolinecolor\":\"white\",\"automargin\":true,\"zerolinewidth\":2},\"scene\":{\"xaxis\":{\"backgroundcolor\":\"#E5ECF6\",\"gridcolor\":\"white\",\"linecolor\":\"white\",\"showbackground\":true,\"ticks\":\"\",\"zerolinecolor\":\"white\",\"gridwidth\":2},\"yaxis\":{\"backgroundcolor\":\"#E5ECF6\",\"gridcolor\":\"white\",\"linecolor\":\"white\",\"showbackground\":true,\"ticks\":\"\",\"zerolinecolor\":\"white\",\"gridwidth\":2},\"zaxis\":{\"backgroundcolor\":\"#E5ECF6\",\"gridcolor\":\"white\",\"linecolor\":\"white\",\"showbackground\":true,\"ticks\":\"\",\"zerolinecolor\":\"white\",\"gridwidth\":2}},\"shapedefaults\":{\"line\":{\"color\":\"#2a3f5f\"}},\"annotationdefaults\":{\"arrowcolor\":\"#2a3f5f\",\"arrowhead\":0,\"arrowwidth\":1},\"geo\":{\"bgcolor\":\"white\",\"landcolor\":\"#E5ECF6\",\"subunitcolor\":\"white\",\"showland\":true,\"showlakes\":true,\"lakecolor\":\"white\"},\"title\":{\"x\":0.05},\"mapbox\":{\"style\":\"light\"}}},\"scene\":{\"domain\":{\"x\":[0.0,1.0],\"y\":[0.0,1.0]},\"xaxis\":{\"title\":{\"text\":\"x_data\"}},\"yaxis\":{\"title\":{\"text\":\"y_data\"}},\"zaxis\":{\"title\":{\"text\":\"z_data\"}}},\"coloraxis\":{\"colorbar\":{\"title\":{\"text\":\"color_data\"}},\"colorscale\":[[0.0,\"#0d0887\"],[0.1111111111111111,\"#46039f\"],[0.2222222222222222,\"#7201a8\"],[0.3333333333333333,\"#9c179e\"],[0.4444444444444444,\"#bd3786\"],[0.5555555555555556,\"#d8576b\"],[0.6666666666666666,\"#ed7953\"],[0.7777777777777778,\"#fb9f3a\"],[0.8888888888888888,\"#fdca26\"],[1.0,\"#f0f921\"]]},\"legend\":{\"tracegroupgap\":0,\"itemsizing\":\"constant\"},\"title\":{\"text\":\"Simple 3D Scatter Plot\"}},                        {\"responsive\": true}                    ).then(function(){\n",
              "                            \n",
              "var gd = document.getElementById('b2b1418b-40e6-42ed-8a6a-c968bd05ccec');\n",
              "var x = new MutationObserver(function (mutations, observer) {{\n",
              "        var display = window.getComputedStyle(gd).display;\n",
              "        if (!display || display === 'none') {{\n",
              "            console.log([gd, 'removed!']);\n",
              "            Plotly.purge(gd);\n",
              "            observer.disconnect();\n",
              "        }}\n",
              "}});\n",
              "\n",
              "// Listen for the removal of the full notebook cells\n",
              "var notebookContainer = gd.closest('#notebook-container');\n",
              "if (notebookContainer) {{\n",
              "    x.observe(notebookContainer, {childList: true});\n",
              "}}\n",
              "\n",
              "// Listen for the clearing of the current output cell\n",
              "var outputEl = gd.closest('.output');\n",
              "if (outputEl) {{\n",
              "    x.observe(outputEl, {childList: true});\n",
              "}}\n",
              "\n",
              "                        })                };                            </script>        </div>\n",
              "</body>\n",
              "</html>"
            ]
          },
          "metadata": {}
        }
      ]
    }
  ]
}